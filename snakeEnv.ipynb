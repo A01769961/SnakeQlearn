{
 "cells": [
  {
   "cell_type": "code",
   "execution_count": 3,
   "metadata": {},
   "outputs": [
    {
     "ename": "ImportError",
     "evalue": "cannot import name 'BasicEnv' from 'gym' (d:\\Principal\\Workspace\\PythonC\\Python\\lib\\site-packages\\gym\\__init__.py)",
     "output_type": "error",
     "traceback": [
      "\u001b[1;31m---------------------------------------------------------------------------\u001b[0m",
      "\u001b[1;31mImportError\u001b[0m                               Traceback (most recent call last)",
      "Cell \u001b[1;32mIn[3], line 5\u001b[0m\n\u001b[0;32m      3\u001b[0m \u001b[39mimport\u001b[39;00m \u001b[39mgym\u001b[39;00m\n\u001b[0;32m      4\u001b[0m \u001b[39mfrom\u001b[39;00m \u001b[39mgym\u001b[39;00m \u001b[39mimport\u001b[39;00m spaces\n\u001b[1;32m----> 5\u001b[0m \u001b[39mfrom\u001b[39;00m \u001b[39mgym\u001b[39;00m \u001b[39mimport\u001b[39;00m BasicEnv\n",
      "\u001b[1;31mImportError\u001b[0m: cannot import name 'BasicEnv' from 'gym' (d:\\Principal\\Workspace\\PythonC\\Python\\lib\\site-packages\\gym\\__init__.py)"
     ]
    }
   ],
   "source": [
    "# import necessary libraries\n",
    "import numpy as np\n",
    "import gym\n",
    "from gym import spaces\n",
    "from gym import BasicEnv"
   ]
  },
  {
   "cell_type": "code",
   "execution_count": null,
   "metadata": {},
   "outputs": [],
   "source": []
  },
  {
   "cell_type": "code",
   "execution_count": null,
   "metadata": {},
   "outputs": [],
   "source": [
    "def resetGame():\n",
    "    global sitio, newSitio, aDonde, comidaExist, fila, moviendome #Variables a modificar y usar\n",
    "    x = sitio[0] #renombramos para mayor comodidad\n",
    "    y = sitio[1]\n",
    "    nx =newSitio[0]\n",
    "    ny =newSitio[1]\n",
    "    if x<len(tablero)-2 and tablero[y][x+1]!=-50: # Hcemos que no se salga ni choque en si misma de momento\n",
    "        tablero=[] #Matriz del tablero donde |-1 Casilla sin nada |-100 Casilla de borde |-50 Cuerpo de la serpiente |100 Comida de la serpiente\n",
    "        sitio=[0,0] #Sitio actuual de Snake en forma x,y\n",
    "        newSitio=[0,0] #Sitio a donde va a ir Snake en forma x,y\n",
    "        comida=[0,0] #Sitio actual de la comida en forma x,y\n",
    "        fila = deque() # Crear una cola vacía para saber donde esta el cuerpo de snake\n",
    "        score = 0\n",
    "\n",
    "        comidaExist = False # Booleano si la comida existe\n",
    "        moviendome = False #Actualmente se esta moviendo?\n",
    "        aDonde=\"arr\" #Direccion actual de snake\n",
    "\n",
    "    if x>1 and tablero[y][x-1]!=-50: # Hcemos que no se salga ni choque en si misma de momento\n",
    "        tablero=[] #Matriz del tablero donde |-1 Casilla sin nada |-100 Casilla de borde |-50 Cuerpo de la serpiente |100 Comida de la serpiente\n",
    "        sitio=[0,0] #Sitio actuual de Snake en forma x,y\n",
    "        newSitio=[0,0] #Sitio a donde va a ir Snake en forma x,y\n",
    "        comida=[0,0] #Sitio actual de la comida en forma x,y\n",
    "        fila = deque() # Crear una cola vacía para saber donde esta el cuerpo de snake\n",
    "        score = 0\n",
    "\n",
    "        comidaExist = False # Booleano si la comida existe\n",
    "        moviendome = False #Actualmente se esta moviendo?\n",
    "        aDonde=\"arr\" #Direccion actual de snake\n",
    "\n",
    "    if y<len(tablero)-2 and tablero[y+1][x]!=-50: # Hcemos que no se salga ni choque en si misma de momento\n",
    "        tablero=[] #Matriz del tablero donde |-1 Casilla sin nada |-100 Casilla de borde |-50 Cuerpo de la serpiente |100 Comida de la serpiente\n",
    "        sitio=[0,0] #Sitio actuual de Snake en forma x,y\n",
    "        newSitio=[0,0] #Sitio a donde va a ir Snake en forma x,y\n",
    "        comida=[0,0] #Sitio actual de la comida en forma x,y\n",
    "        fila = deque() # Crear una cola vacía para saber donde esta el cuerpo de snake\n",
    "        score = 0\n",
    "\n",
    "        comidaExist = False # Booleano si la comida existe\n",
    "        moviendome = False #Actualmente se esta moviendo?\n",
    "        aDonde=\"arr\" #Direccion actual de snake\n",
    "\n",
    "    if y > 1  and tablero[y-1][x]!=-50: # Hcemos que no se salga ni choque en si misma de momento\n",
    "        tablero=[] #Matriz del tablero donde |-1 Casilla sin nada |-100 Casilla de borde |-50 Cuerpo de la serpiente |100 Comida de la serpiente\n",
    "        sitio=[0,0] #Sitio actuual de Snake en forma x,y\n",
    "        newSitio=[0,0] #Sitio a donde va a ir Snake en forma x,y\n",
    "        comida=[0,0] #Sitio actual de la comida en forma x,y\n",
    "        fila = deque() # Crear una cola vacía para saber donde esta el cuerpo de snake\n",
    "        score = 0\n",
    "\n",
    "        comidaExist = False # Booleano si la comida existe\n",
    "        moviendome = False #Actualmente se esta moviendo?\n",
    "        aDonde=\"arr\" #Direccion actual de snake\n",
    "\n",
    "    # Touching the snake body\n",
    "    for block in fila[1:]:\n",
    "        if sitio[0] == block[0] and sitio[1] == block[1]:"
   ]
  },
  {
   "cell_type": "code",
   "execution_count": 2,
   "metadata": {},
   "outputs": [
    {
     "ename": "ModuleNotFoundError",
     "evalue": "No module named 'gym_basic'. Environment registration via importing a module failed. Check whether 'gym_basic' contains env registration and can be imported.",
     "output_type": "error",
     "traceback": [
      "\u001b[1;31m---------------------------------------------------------------------------\u001b[0m",
      "\u001b[1;31mModuleNotFoundError\u001b[0m                       Traceback (most recent call last)",
      "File \u001b[1;32md:\\Principal\\Workspace\\PythonC\\Python\\lib\\site-packages\\gym\\envs\\registration.py:540\u001b[0m, in \u001b[0;36mmake\u001b[1;34m(id, max_episode_steps, autoreset, apply_api_compatibility, disable_env_checker, **kwargs)\u001b[0m\n\u001b[0;32m    539\u001b[0m \u001b[39mtry\u001b[39;00m:\n\u001b[1;32m--> 540\u001b[0m     importlib\u001b[39m.\u001b[39;49mimport_module(module)\n\u001b[0;32m    541\u001b[0m \u001b[39mexcept\u001b[39;00m \u001b[39mModuleNotFoundError\u001b[39;00m \u001b[39mas\u001b[39;00m e:\n",
      "File \u001b[1;32md:\\Principal\\Workspace\\PythonC\\Python\\lib\\importlib\\__init__.py:126\u001b[0m, in \u001b[0;36mimport_module\u001b[1;34m(name, package)\u001b[0m\n\u001b[0;32m    125\u001b[0m         level \u001b[39m+\u001b[39m\u001b[39m=\u001b[39m \u001b[39m1\u001b[39m\n\u001b[1;32m--> 126\u001b[0m \u001b[39mreturn\u001b[39;00m _bootstrap\u001b[39m.\u001b[39;49m_gcd_import(name[level:], package, level)\n",
      "File \u001b[1;32m<frozen importlib._bootstrap>:1050\u001b[0m, in \u001b[0;36m_gcd_import\u001b[1;34m(name, package, level)\u001b[0m\n",
      "File \u001b[1;32m<frozen importlib._bootstrap>:1027\u001b[0m, in \u001b[0;36m_find_and_load\u001b[1;34m(name, import_)\u001b[0m\n",
      "File \u001b[1;32m<frozen importlib._bootstrap>:1004\u001b[0m, in \u001b[0;36m_find_and_load_unlocked\u001b[1;34m(name, import_)\u001b[0m\n",
      "\u001b[1;31mModuleNotFoundError\u001b[0m: No module named 'gym_basic'",
      "\nDuring handling of the above exception, another exception occurred:\n",
      "\u001b[1;31mModuleNotFoundError\u001b[0m                       Traceback (most recent call last)",
      "Cell \u001b[1;32mIn[2], line 1\u001b[0m\n\u001b[1;32m----> 1\u001b[0m env \u001b[39m=\u001b[39m gym\u001b[39m.\u001b[39;49mmake(\u001b[39m'\u001b[39;49m\u001b[39mgym_basic:basic-v0\u001b[39;49m\u001b[39m'\u001b[39;49m)\n",
      "File \u001b[1;32md:\\Principal\\Workspace\\PythonC\\Python\\lib\\site-packages\\gym\\envs\\registration.py:542\u001b[0m, in \u001b[0;36mmake\u001b[1;34m(id, max_episode_steps, autoreset, apply_api_compatibility, disable_env_checker, **kwargs)\u001b[0m\n\u001b[0;32m    540\u001b[0m         importlib\u001b[39m.\u001b[39mimport_module(module)\n\u001b[0;32m    541\u001b[0m     \u001b[39mexcept\u001b[39;00m \u001b[39mModuleNotFoundError\u001b[39;00m \u001b[39mas\u001b[39;00m e:\n\u001b[1;32m--> 542\u001b[0m         \u001b[39mraise\u001b[39;00m \u001b[39mModuleNotFoundError\u001b[39;00m(\n\u001b[0;32m    543\u001b[0m             \u001b[39mf\u001b[39m\u001b[39m\"\u001b[39m\u001b[39m{\u001b[39;00me\u001b[39m}\u001b[39;00m\u001b[39m. Environment registration via importing a module failed. \u001b[39m\u001b[39m\"\u001b[39m\n\u001b[0;32m    544\u001b[0m             \u001b[39mf\u001b[39m\u001b[39m\"\u001b[39m\u001b[39mCheck whether \u001b[39m\u001b[39m'\u001b[39m\u001b[39m{\u001b[39;00mmodule\u001b[39m}\u001b[39;00m\u001b[39m'\u001b[39m\u001b[39m contains env registration and can be imported.\u001b[39m\u001b[39m\"\u001b[39m\n\u001b[0;32m    545\u001b[0m         )\n\u001b[0;32m    546\u001b[0m spec_ \u001b[39m=\u001b[39m registry\u001b[39m.\u001b[39mget(\u001b[39mid\u001b[39m)\n\u001b[0;32m    548\u001b[0m ns, name, version \u001b[39m=\u001b[39m parse_env_id(\u001b[39mid\u001b[39m)\n",
      "\u001b[1;31mModuleNotFoundError\u001b[0m: No module named 'gym_basic'. Environment registration via importing a module failed. Check whether 'gym_basic' contains env registration and can be imported."
     ]
    }
   ],
   "source": [
    "env = BasicEnv()"
   ]
  },
  {
   "cell_type": "code",
   "execution_count": 5,
   "metadata": {},
   "outputs": [],
   "source": [
    "import gymnasium as gym\n",
    "env = gym.make(\"LunarLander-v2\", render_mode=\"human\")\n",
    "observation, info = env.reset()\n",
    "\n",
    "for _ in range(1000):\n",
    "    action = env.action_space.sample()  # agent policy that uses the observation and info\n",
    "    observation, reward, terminated, truncated, info = env.step(action)\n",
    "\n",
    "    if terminated or truncated:\n",
    "        observation, info = env.reset()\n",
    "\n",
    "env.close()"
   ]
  }
 ],
 "metadata": {
  "kernelspec": {
   "display_name": "Python 3",
   "language": "python",
   "name": "python3"
  },
  "language_info": {
   "codemirror_mode": {
    "name": "ipython",
    "version": 3
   },
   "file_extension": ".py",
   "mimetype": "text/x-python",
   "name": "python",
   "nbconvert_exporter": "python",
   "pygments_lexer": "ipython3",
   "version": "3.10.9"
  },
  "orig_nbformat": 4
 },
 "nbformat": 4,
 "nbformat_minor": 2
}
